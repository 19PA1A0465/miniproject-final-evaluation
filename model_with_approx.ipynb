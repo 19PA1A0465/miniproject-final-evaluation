{
  "nbformat": 4,
  "nbformat_minor": 0,
  "metadata": {
    "colab": {
      "name": "model with approx.ipynb",
      "provenance": [],
      "authorship_tag": "ABX9TyPoAefDF1Ibvi4yUM8ccCkH",
      "include_colab_link": true
    },
    "kernelspec": {
      "name": "python3",
      "display_name": "Python 3"
    },
    "language_info": {
      "name": "python"
    }
  },
  "cells": [
    {
      "cell_type": "markdown",
      "metadata": {
        "id": "view-in-github",
        "colab_type": "text"
      },
      "source": [
        "<a href=\"https://colab.research.google.com/github/19PA1A0465/miniproject-final-evaluation/blob/main/model_with_approx.ipynb\" target=\"_parent\"><img src=\"https://colab.research.google.com/assets/colab-badge.svg\" alt=\"Open In Colab\"/></a>"
      ]
    },
    {
      "cell_type": "code",
      "source": [
        "pip install numpy pandas sklearn xgboost"
      ],
      "metadata": {
        "colab": {
          "base_uri": "https://localhost:8080/"
        },
        "id": "9Fbq4ChfqWa9",
        "outputId": "701b0f79-42b1-40d3-8dd9-b272ba1ccc60"
      },
      "execution_count": 145,
      "outputs": [
        {
          "output_type": "stream",
          "name": "stdout",
          "text": [
            "Looking in indexes: https://pypi.org/simple, https://us-python.pkg.dev/colab-wheels/public/simple/\n",
            "Requirement already satisfied: numpy in /usr/local/lib/python3.7/dist-packages (1.21.6)\n",
            "Requirement already satisfied: pandas in /usr/local/lib/python3.7/dist-packages (1.3.5)\n",
            "Requirement already satisfied: sklearn in /usr/local/lib/python3.7/dist-packages (0.0)\n",
            "Requirement already satisfied: xgboost in /usr/local/lib/python3.7/dist-packages (0.90)\n",
            "Requirement already satisfied: pytz>=2017.3 in /usr/local/lib/python3.7/dist-packages (from pandas) (2022.2.1)\n",
            "Requirement already satisfied: python-dateutil>=2.7.3 in /usr/local/lib/python3.7/dist-packages (from pandas) (2.8.2)\n",
            "Requirement already satisfied: six>=1.5 in /usr/local/lib/python3.7/dist-packages (from python-dateutil>=2.7.3->pandas) (1.15.0)\n",
            "Requirement already satisfied: scikit-learn in /usr/local/lib/python3.7/dist-packages (from sklearn) (1.0.2)\n",
            "Requirement already satisfied: scipy in /usr/local/lib/python3.7/dist-packages (from xgboost) (1.7.3)\n",
            "Requirement already satisfied: threadpoolctl>=2.0.0 in /usr/local/lib/python3.7/dist-packages (from scikit-learn->sklearn) (3.1.0)\n",
            "Requirement already satisfied: joblib>=0.11 in /usr/local/lib/python3.7/dist-packages (from scikit-learn->sklearn) (1.1.0)\n"
          ]
        }
      ]
    },
    {
      "cell_type": "code",
      "execution_count": 146,
      "metadata": {
        "id": "6yx6tBeOBEsK"
      },
      "outputs": [],
      "source": [
        " #importing all the required packages\n",
        "import pandas as pd # for handling data in the form of tables\n",
        "import numpy as np # For handling matrix\n",
        "from sklearn.model_selection import train_test_split # For spliting the data into train and test\n",
        "from sklearn import metrics # for calculation of accuracy and precision\n",
        "from sklearn.metrics import confusion_matrix #performance measures\n",
        "from sklearn import svm \n",
        "import seaborn as sns#for visualization\n",
        "import matplotlib.pyplot as plt\n",
        "from sklearn.metrics import plot_confusion_matrix,classification_report,plot_precision_recall_curve,plot_roc_curve# to calculate performance of model\n",
        "from sklearn.tree import DecisionTreeClassifier\n",
        "from sklearn.ensemble import AdaBoostClassifier\n",
        "from sklearn.ensemble import RandomForestClassifier\n",
        "from sklearn.metrics import accuracy_score\n",
        "\n",
        "\n"
      ]
    },
    {
      "cell_type": "markdown",
      "source": [
        "# **Reading** **the** **data**"
      ],
      "metadata": {
        "id": "yHDyKOEYybGF"
      }
    },
    {
      "cell_type": "code",
      "source": [
        "\n",
        "dataset=pd.read_csv('feature data of all bands.csv')#read csv file"
      ],
      "metadata": {
        "id": "G4onLZq5Bb2B"
      },
      "execution_count": 147,
      "outputs": []
    },
    {
      "cell_type": "markdown",
      "source": [
        "# **Data** **Inspection**"
      ],
      "metadata": {
        "id": "GiqxcCpVyqUz"
      }
    },
    {
      "cell_type": "code",
      "source": [
        "# To see the first 5 rows of our dataset we use head() \n",
        "dataset.head()"
      ],
      "metadata": {
        "colab": {
          "base_uri": "https://localhost:8080/",
          "height": 206
        },
        "id": "uQkj6-kEywPO",
        "outputId": "4ba7ce1f-382c-4012-8385-b63f3035b684"
      },
      "execution_count": 148,
      "outputs": [
        {
          "output_type": "execute_result",
          "data": {
            "text/plain": [
              "       Mean  Kurtosis  Varience  Max_Svd  Entropy_Svd  Skewness  Target\n",
              "0  0.000753    3.9757    0.0020   2.8817      43.5388    0.0135       0\n",
              "1 -0.000102    4.4953    0.0017   2.6056      35.7801    0.0015       0\n",
              "2 -0.000090    4.5453    0.0016   2.5671      35.2603   -0.0126       0\n",
              "3  0.000496    4.4307    0.0017   2.6443      36.7637   -0.0053       0\n",
              "4 -0.000377    3.1227    0.0030   3.4908      61.7647   -0.1275       0"
            ],
            "text/html": [
              "\n",
              "  <div id=\"df-69e49b17-9747-4665-861d-63db0b6f2b4b\">\n",
              "    <div class=\"colab-df-container\">\n",
              "      <div>\n",
              "<style scoped>\n",
              "    .dataframe tbody tr th:only-of-type {\n",
              "        vertical-align: middle;\n",
              "    }\n",
              "\n",
              "    .dataframe tbody tr th {\n",
              "        vertical-align: top;\n",
              "    }\n",
              "\n",
              "    .dataframe thead th {\n",
              "        text-align: right;\n",
              "    }\n",
              "</style>\n",
              "<table border=\"1\" class=\"dataframe\">\n",
              "  <thead>\n",
              "    <tr style=\"text-align: right;\">\n",
              "      <th></th>\n",
              "      <th>Mean</th>\n",
              "      <th>Kurtosis</th>\n",
              "      <th>Varience</th>\n",
              "      <th>Max_Svd</th>\n",
              "      <th>Entropy_Svd</th>\n",
              "      <th>Skewness</th>\n",
              "      <th>Target</th>\n",
              "    </tr>\n",
              "  </thead>\n",
              "  <tbody>\n",
              "    <tr>\n",
              "      <th>0</th>\n",
              "      <td>0.000753</td>\n",
              "      <td>3.9757</td>\n",
              "      <td>0.0020</td>\n",
              "      <td>2.8817</td>\n",
              "      <td>43.5388</td>\n",
              "      <td>0.0135</td>\n",
              "      <td>0</td>\n",
              "    </tr>\n",
              "    <tr>\n",
              "      <th>1</th>\n",
              "      <td>-0.000102</td>\n",
              "      <td>4.4953</td>\n",
              "      <td>0.0017</td>\n",
              "      <td>2.6056</td>\n",
              "      <td>35.7801</td>\n",
              "      <td>0.0015</td>\n",
              "      <td>0</td>\n",
              "    </tr>\n",
              "    <tr>\n",
              "      <th>2</th>\n",
              "      <td>-0.000090</td>\n",
              "      <td>4.5453</td>\n",
              "      <td>0.0016</td>\n",
              "      <td>2.5671</td>\n",
              "      <td>35.2603</td>\n",
              "      <td>-0.0126</td>\n",
              "      <td>0</td>\n",
              "    </tr>\n",
              "    <tr>\n",
              "      <th>3</th>\n",
              "      <td>0.000496</td>\n",
              "      <td>4.4307</td>\n",
              "      <td>0.0017</td>\n",
              "      <td>2.6443</td>\n",
              "      <td>36.7637</td>\n",
              "      <td>-0.0053</td>\n",
              "      <td>0</td>\n",
              "    </tr>\n",
              "    <tr>\n",
              "      <th>4</th>\n",
              "      <td>-0.000377</td>\n",
              "      <td>3.1227</td>\n",
              "      <td>0.0030</td>\n",
              "      <td>3.4908</td>\n",
              "      <td>61.7647</td>\n",
              "      <td>-0.1275</td>\n",
              "      <td>0</td>\n",
              "    </tr>\n",
              "  </tbody>\n",
              "</table>\n",
              "</div>\n",
              "      <button class=\"colab-df-convert\" onclick=\"convertToInteractive('df-69e49b17-9747-4665-861d-63db0b6f2b4b')\"\n",
              "              title=\"Convert this dataframe to an interactive table.\"\n",
              "              style=\"display:none;\">\n",
              "        \n",
              "  <svg xmlns=\"http://www.w3.org/2000/svg\" height=\"24px\"viewBox=\"0 0 24 24\"\n",
              "       width=\"24px\">\n",
              "    <path d=\"M0 0h24v24H0V0z\" fill=\"none\"/>\n",
              "    <path d=\"M18.56 5.44l.94 2.06.94-2.06 2.06-.94-2.06-.94-.94-2.06-.94 2.06-2.06.94zm-11 1L8.5 8.5l.94-2.06 2.06-.94-2.06-.94L8.5 2.5l-.94 2.06-2.06.94zm10 10l.94 2.06.94-2.06 2.06-.94-2.06-.94-.94-2.06-.94 2.06-2.06.94z\"/><path d=\"M17.41 7.96l-1.37-1.37c-.4-.4-.92-.59-1.43-.59-.52 0-1.04.2-1.43.59L10.3 9.45l-7.72 7.72c-.78.78-.78 2.05 0 2.83L4 21.41c.39.39.9.59 1.41.59.51 0 1.02-.2 1.41-.59l7.78-7.78 2.81-2.81c.8-.78.8-2.07 0-2.86zM5.41 20L4 18.59l7.72-7.72 1.47 1.35L5.41 20z\"/>\n",
              "  </svg>\n",
              "      </button>\n",
              "      \n",
              "  <style>\n",
              "    .colab-df-container {\n",
              "      display:flex;\n",
              "      flex-wrap:wrap;\n",
              "      gap: 12px;\n",
              "    }\n",
              "\n",
              "    .colab-df-convert {\n",
              "      background-color: #E8F0FE;\n",
              "      border: none;\n",
              "      border-radius: 50%;\n",
              "      cursor: pointer;\n",
              "      display: none;\n",
              "      fill: #1967D2;\n",
              "      height: 32px;\n",
              "      padding: 0 0 0 0;\n",
              "      width: 32px;\n",
              "    }\n",
              "\n",
              "    .colab-df-convert:hover {\n",
              "      background-color: #E2EBFA;\n",
              "      box-shadow: 0px 1px 2px rgba(60, 64, 67, 0.3), 0px 1px 3px 1px rgba(60, 64, 67, 0.15);\n",
              "      fill: #174EA6;\n",
              "    }\n",
              "\n",
              "    [theme=dark] .colab-df-convert {\n",
              "      background-color: #3B4455;\n",
              "      fill: #D2E3FC;\n",
              "    }\n",
              "\n",
              "    [theme=dark] .colab-df-convert:hover {\n",
              "      background-color: #434B5C;\n",
              "      box-shadow: 0px 1px 3px 1px rgba(0, 0, 0, 0.15);\n",
              "      filter: drop-shadow(0px 1px 2px rgba(0, 0, 0, 0.3));\n",
              "      fill: #FFFFFF;\n",
              "    }\n",
              "  </style>\n",
              "\n",
              "      <script>\n",
              "        const buttonEl =\n",
              "          document.querySelector('#df-69e49b17-9747-4665-861d-63db0b6f2b4b button.colab-df-convert');\n",
              "        buttonEl.style.display =\n",
              "          google.colab.kernel.accessAllowed ? 'block' : 'none';\n",
              "\n",
              "        async function convertToInteractive(key) {\n",
              "          const element = document.querySelector('#df-69e49b17-9747-4665-861d-63db0b6f2b4b');\n",
              "          const dataTable =\n",
              "            await google.colab.kernel.invokeFunction('convertToInteractive',\n",
              "                                                     [key], {});\n",
              "          if (!dataTable) return;\n",
              "\n",
              "          const docLinkHtml = 'Like what you see? Visit the ' +\n",
              "            '<a target=\"_blank\" href=https://colab.research.google.com/notebooks/data_table.ipynb>data table notebook</a>'\n",
              "            + ' to learn more about interactive tables.';\n",
              "          element.innerHTML = '';\n",
              "          dataTable['output_type'] = 'display_data';\n",
              "          await google.colab.output.renderOutput(dataTable, element);\n",
              "          const docLink = document.createElement('div');\n",
              "          docLink.innerHTML = docLinkHtml;\n",
              "          element.appendChild(docLink);\n",
              "        }\n",
              "      </script>\n",
              "    </div>\n",
              "  </div>\n",
              "  "
            ]
          },
          "metadata": {},
          "execution_count": 148
        }
      ]
    },
    {
      "cell_type": "code",
      "source": [
        "dataset.shape#to know the sh ape of datafeame"
      ],
      "metadata": {
        "id": "DPOws0anDtd4",
        "colab": {
          "base_uri": "https://localhost:8080/"
        },
        "outputId": "e6444291-bb9a-40f3-c7c1-c57653495756"
      },
      "execution_count": 149,
      "outputs": [
        {
          "output_type": "execute_result",
          "data": {
            "text/plain": [
              "(1000, 7)"
            ]
          },
          "metadata": {},
          "execution_count": 149
        }
      ]
    },
    {
      "cell_type": "code",
      "source": [
        "#To know the columns names in dataset we use columns \n",
        "dataset.columns"
      ],
      "metadata": {
        "id": "O0sQBP_Ky8WS",
        "colab": {
          "base_uri": "https://localhost:8080/"
        },
        "outputId": "3e1fbd37-f647-496b-84b2-851679ac6996"
      },
      "execution_count": 150,
      "outputs": [
        {
          "output_type": "execute_result",
          "data": {
            "text/plain": [
              "Index(['Mean', 'Kurtosis', 'Varience', 'Max_Svd', 'Entropy_Svd', 'Skewness',\n",
              "       'Target'],\n",
              "      dtype='object')"
            ]
          },
          "metadata": {},
          "execution_count": 150
        }
      ]
    },
    {
      "cell_type": "code",
      "source": [
        "# To study the statastical summary of dataset we use discribe()\n",
        "dataset.describe()"
      ],
      "metadata": {
        "id": "BRR3bld0O9Pw",
        "colab": {
          "base_uri": "https://localhost:8080/",
          "height": 300
        },
        "outputId": "473adfb6-ef1b-4bc8-abec-ce70366b3b30"
      },
      "execution_count": 151,
      "outputs": [
        {
          "output_type": "execute_result",
          "data": {
            "text/plain": [
              "               Mean     Kurtosis     Varience      Max_Svd  Entropy_Svd  \\\n",
              "count  1.000000e+03  1000.000000  1000.000000  1000.000000  1000.000000   \n",
              "mean   4.126154e-05   209.450938     0.001088     1.541447    13.079525   \n",
              "std    5.601005e-04   236.171295     0.001609     1.423313    17.753771   \n",
              "min   -4.600000e-03     2.622300     0.000003     0.103900     0.086500   \n",
              "25%   -2.088550e-05    11.082075     0.000023     0.304725     0.677400   \n",
              "50%   -5.195000e-08   135.571500     0.000137     0.747400     2.313250   \n",
              "75%    2.035425e-05   290.646875     0.001700     2.655000    19.998300   \n",
              "max    4.000000e-03   963.478400     0.007900     5.672700   103.372600   \n",
              "\n",
              "          Skewness      Target  \n",
              "count  1000.000000  1000.00000  \n",
              "mean     -0.466901     0.50000  \n",
              "std       6.532415     0.50025  \n",
              "min     -27.773500     0.00000  \n",
              "25%      -1.463050     0.00000  \n",
              "50%      -0.002200     0.50000  \n",
              "75%       0.982925     1.00000  \n",
              "max      27.463400     1.00000  "
            ],
            "text/html": [
              "\n",
              "  <div id=\"df-5eb68cda-d496-402c-9a7f-8be065124976\">\n",
              "    <div class=\"colab-df-container\">\n",
              "      <div>\n",
              "<style scoped>\n",
              "    .dataframe tbody tr th:only-of-type {\n",
              "        vertical-align: middle;\n",
              "    }\n",
              "\n",
              "    .dataframe tbody tr th {\n",
              "        vertical-align: top;\n",
              "    }\n",
              "\n",
              "    .dataframe thead th {\n",
              "        text-align: right;\n",
              "    }\n",
              "</style>\n",
              "<table border=\"1\" class=\"dataframe\">\n",
              "  <thead>\n",
              "    <tr style=\"text-align: right;\">\n",
              "      <th></th>\n",
              "      <th>Mean</th>\n",
              "      <th>Kurtosis</th>\n",
              "      <th>Varience</th>\n",
              "      <th>Max_Svd</th>\n",
              "      <th>Entropy_Svd</th>\n",
              "      <th>Skewness</th>\n",
              "      <th>Target</th>\n",
              "    </tr>\n",
              "  </thead>\n",
              "  <tbody>\n",
              "    <tr>\n",
              "      <th>count</th>\n",
              "      <td>1.000000e+03</td>\n",
              "      <td>1000.000000</td>\n",
              "      <td>1000.000000</td>\n",
              "      <td>1000.000000</td>\n",
              "      <td>1000.000000</td>\n",
              "      <td>1000.000000</td>\n",
              "      <td>1000.00000</td>\n",
              "    </tr>\n",
              "    <tr>\n",
              "      <th>mean</th>\n",
              "      <td>4.126154e-05</td>\n",
              "      <td>209.450938</td>\n",
              "      <td>0.001088</td>\n",
              "      <td>1.541447</td>\n",
              "      <td>13.079525</td>\n",
              "      <td>-0.466901</td>\n",
              "      <td>0.50000</td>\n",
              "    </tr>\n",
              "    <tr>\n",
              "      <th>std</th>\n",
              "      <td>5.601005e-04</td>\n",
              "      <td>236.171295</td>\n",
              "      <td>0.001609</td>\n",
              "      <td>1.423313</td>\n",
              "      <td>17.753771</td>\n",
              "      <td>6.532415</td>\n",
              "      <td>0.50025</td>\n",
              "    </tr>\n",
              "    <tr>\n",
              "      <th>min</th>\n",
              "      <td>-4.600000e-03</td>\n",
              "      <td>2.622300</td>\n",
              "      <td>0.000003</td>\n",
              "      <td>0.103900</td>\n",
              "      <td>0.086500</td>\n",
              "      <td>-27.773500</td>\n",
              "      <td>0.00000</td>\n",
              "    </tr>\n",
              "    <tr>\n",
              "      <th>25%</th>\n",
              "      <td>-2.088550e-05</td>\n",
              "      <td>11.082075</td>\n",
              "      <td>0.000023</td>\n",
              "      <td>0.304725</td>\n",
              "      <td>0.677400</td>\n",
              "      <td>-1.463050</td>\n",
              "      <td>0.00000</td>\n",
              "    </tr>\n",
              "    <tr>\n",
              "      <th>50%</th>\n",
              "      <td>-5.195000e-08</td>\n",
              "      <td>135.571500</td>\n",
              "      <td>0.000137</td>\n",
              "      <td>0.747400</td>\n",
              "      <td>2.313250</td>\n",
              "      <td>-0.002200</td>\n",
              "      <td>0.50000</td>\n",
              "    </tr>\n",
              "    <tr>\n",
              "      <th>75%</th>\n",
              "      <td>2.035425e-05</td>\n",
              "      <td>290.646875</td>\n",
              "      <td>0.001700</td>\n",
              "      <td>2.655000</td>\n",
              "      <td>19.998300</td>\n",
              "      <td>0.982925</td>\n",
              "      <td>1.00000</td>\n",
              "    </tr>\n",
              "    <tr>\n",
              "      <th>max</th>\n",
              "      <td>4.000000e-03</td>\n",
              "      <td>963.478400</td>\n",
              "      <td>0.007900</td>\n",
              "      <td>5.672700</td>\n",
              "      <td>103.372600</td>\n",
              "      <td>27.463400</td>\n",
              "      <td>1.00000</td>\n",
              "    </tr>\n",
              "  </tbody>\n",
              "</table>\n",
              "</div>\n",
              "      <button class=\"colab-df-convert\" onclick=\"convertToInteractive('df-5eb68cda-d496-402c-9a7f-8be065124976')\"\n",
              "              title=\"Convert this dataframe to an interactive table.\"\n",
              "              style=\"display:none;\">\n",
              "        \n",
              "  <svg xmlns=\"http://www.w3.org/2000/svg\" height=\"24px\"viewBox=\"0 0 24 24\"\n",
              "       width=\"24px\">\n",
              "    <path d=\"M0 0h24v24H0V0z\" fill=\"none\"/>\n",
              "    <path d=\"M18.56 5.44l.94 2.06.94-2.06 2.06-.94-2.06-.94-.94-2.06-.94 2.06-2.06.94zm-11 1L8.5 8.5l.94-2.06 2.06-.94-2.06-.94L8.5 2.5l-.94 2.06-2.06.94zm10 10l.94 2.06.94-2.06 2.06-.94-2.06-.94-.94-2.06-.94 2.06-2.06.94z\"/><path d=\"M17.41 7.96l-1.37-1.37c-.4-.4-.92-.59-1.43-.59-.52 0-1.04.2-1.43.59L10.3 9.45l-7.72 7.72c-.78.78-.78 2.05 0 2.83L4 21.41c.39.39.9.59 1.41.59.51 0 1.02-.2 1.41-.59l7.78-7.78 2.81-2.81c.8-.78.8-2.07 0-2.86zM5.41 20L4 18.59l7.72-7.72 1.47 1.35L5.41 20z\"/>\n",
              "  </svg>\n",
              "      </button>\n",
              "      \n",
              "  <style>\n",
              "    .colab-df-container {\n",
              "      display:flex;\n",
              "      flex-wrap:wrap;\n",
              "      gap: 12px;\n",
              "    }\n",
              "\n",
              "    .colab-df-convert {\n",
              "      background-color: #E8F0FE;\n",
              "      border: none;\n",
              "      border-radius: 50%;\n",
              "      cursor: pointer;\n",
              "      display: none;\n",
              "      fill: #1967D2;\n",
              "      height: 32px;\n",
              "      padding: 0 0 0 0;\n",
              "      width: 32px;\n",
              "    }\n",
              "\n",
              "    .colab-df-convert:hover {\n",
              "      background-color: #E2EBFA;\n",
              "      box-shadow: 0px 1px 2px rgba(60, 64, 67, 0.3), 0px 1px 3px 1px rgba(60, 64, 67, 0.15);\n",
              "      fill: #174EA6;\n",
              "    }\n",
              "\n",
              "    [theme=dark] .colab-df-convert {\n",
              "      background-color: #3B4455;\n",
              "      fill: #D2E3FC;\n",
              "    }\n",
              "\n",
              "    [theme=dark] .colab-df-convert:hover {\n",
              "      background-color: #434B5C;\n",
              "      box-shadow: 0px 1px 3px 1px rgba(0, 0, 0, 0.15);\n",
              "      filter: drop-shadow(0px 1px 2px rgba(0, 0, 0, 0.3));\n",
              "      fill: #FFFFFF;\n",
              "    }\n",
              "  </style>\n",
              "\n",
              "      <script>\n",
              "        const buttonEl =\n",
              "          document.querySelector('#df-5eb68cda-d496-402c-9a7f-8be065124976 button.colab-df-convert');\n",
              "        buttonEl.style.display =\n",
              "          google.colab.kernel.accessAllowed ? 'block' : 'none';\n",
              "\n",
              "        async function convertToInteractive(key) {\n",
              "          const element = document.querySelector('#df-5eb68cda-d496-402c-9a7f-8be065124976');\n",
              "          const dataTable =\n",
              "            await google.colab.kernel.invokeFunction('convertToInteractive',\n",
              "                                                     [key], {});\n",
              "          if (!dataTable) return;\n",
              "\n",
              "          const docLinkHtml = 'Like what you see? Visit the ' +\n",
              "            '<a target=\"_blank\" href=https://colab.research.google.com/notebooks/data_table.ipynb>data table notebook</a>'\n",
              "            + ' to learn more about interactive tables.';\n",
              "          element.innerHTML = '';\n",
              "          dataTable['output_type'] = 'display_data';\n",
              "          await google.colab.output.renderOutput(dataTable, element);\n",
              "          const docLink = document.createElement('div');\n",
              "          docLink.innerHTML = docLinkHtml;\n",
              "          element.appendChild(docLink);\n",
              "        }\n",
              "      </script>\n",
              "    </div>\n",
              "  </div>\n",
              "  "
            ]
          },
          "metadata": {},
          "execution_count": 151
        }
      ]
    },
    {
      "cell_type": "markdown",
      "source": [
        "# **About** **the** **distribution**"
      ],
      "metadata": {
        "id": "pxzkAgXqziT3"
      }
    },
    {
      "cell_type": "code",
      "source": [
        "#To check Whether NA's (missingvalues) present in dataset\n",
        "dataset.isnull().sum()"
      ],
      "metadata": {
        "id": "gdiMNDyGPITe",
        "colab": {
          "base_uri": "https://localhost:8080/"
        },
        "outputId": "d1d856cf-e7fd-4a6c-8342-db00cce1b214"
      },
      "execution_count": 152,
      "outputs": [
        {
          "output_type": "execute_result",
          "data": {
            "text/plain": [
              "Mean           0\n",
              "Kurtosis       0\n",
              "Varience       0\n",
              "Max_Svd        0\n",
              "Entropy_Svd    0\n",
              "Skewness       0\n",
              "Target         0\n",
              "dtype: int64"
            ]
          },
          "metadata": {},
          "execution_count": 152
        }
      ]
    },
    {
      "cell_type": "code",
      "source": [
        "#grouping data based on outcomes\n",
        "print(dataset.groupby(\"Target\").size())"
      ],
      "metadata": {
        "id": "h4wmWa9_kSFz",
        "colab": {
          "base_uri": "https://localhost:8080/"
        },
        "outputId": "c09e4a36-a57d-492c-9f3c-ec7deab140ac"
      },
      "execution_count": 153,
      "outputs": [
        {
          "output_type": "stream",
          "name": "stdout",
          "text": [
            "Target\n",
            "0    500\n",
            "1    500\n",
            "dtype: int64\n"
          ]
        }
      ]
    },
    {
      "cell_type": "markdown",
      "source": [
        "# **Data** **visualization**"
      ],
      "metadata": {
        "id": "okgExzG0UpTX"
      }
    },
    {
      "cell_type": "code",
      "source": [
        "sns.countplot(dataset['Target'],label=\"Count\",palette=\"coolwarm\")# visualizing the count of each element  in outcome column"
      ],
      "metadata": {
        "id": "aHFRIMRv2ZoK",
        "colab": {
          "base_uri": "https://localhost:8080/",
          "height": 351
        },
        "outputId": "d2bb4324-ea8a-4f45-fd64-778879619252"
      },
      "execution_count": 154,
      "outputs": [
        {
          "output_type": "stream",
          "name": "stderr",
          "text": [
            "/usr/local/lib/python3.7/dist-packages/seaborn/_decorators.py:43: FutureWarning: Pass the following variable as a keyword arg: x. From version 0.12, the only valid positional argument will be `data`, and passing other arguments without an explicit keyword will result in an error or misinterpretation.\n",
            "  FutureWarning\n"
          ]
        },
        {
          "output_type": "execute_result",
          "data": {
            "text/plain": [
              "<matplotlib.axes._subplots.AxesSubplot at 0x7f95b9293250>"
            ]
          },
          "metadata": {},
          "execution_count": 154
        },
        {
          "output_type": "display_data",
          "data": {
            "text/plain": [
              "<Figure size 432x288 with 1 Axes>"
            ],
            "image/png": "[encoded data removed]"
          },
          "metadata": {
            "needs_background": "light"
          }
        }
      ]
    },
    {
      "cell_type": "markdown",
      "source": [
        "# **Splitting data**"
      ],
      "metadata": {
        "id": "osbQwkgxVadD"
      }
    },
    {
      "cell_type": "code",
      "source": [
        "X,y=dataset.loc[:,['Mean', 'Kurtosis', 'Varience', 'Max_Svd', 'Entropy_Svd', 'Skewness']], dataset['Target']\n",
        "X_train, X_test, y_train, y_test = train_test_split(X,y,test_size=0.2)# splittinh the dataframe into train and test data"
      ],
      "metadata": {
        "id": "-Ns2Y2wVVHwE"
      },
      "execution_count": 155,
      "outputs": []
    },
    {
      "cell_type": "code",
      "source": [
        "    \n",
        "print(X_train.shape)\n",
        "print(X_test.shape)\n",
        "print(y_train.shape)\n",
        "print(y_test.shape)\n",
        "\n"
      ],
      "metadata": {
        "id": "7-hFx3dwVg5n",
        "colab": {
          "base_uri": "https://localhost:8080/"
        },
        "outputId": "61c8b18c-d028-4ac0-aa69-514e27473d17"
      },
      "execution_count": 156,
      "outputs": [
        {
          "output_type": "stream",
          "name": "stdout",
          "text": [
            "(800, 6)\n",
            "(200, 6)\n",
            "(800,)\n",
            "(200,)\n"
          ]
        }
      ]
    },
    {
      "cell_type": "code",
      "source": [
        "clf = svm.SVC(kernel='poly',degree=2) \n",
        "#declaring a variable to svm model\n"
      ],
      "metadata": {
        "id": "1HnMviheVnJ1"
      },
      "execution_count": 157,
      "outputs": []
    },
    {
      "cell_type": "code",
      "source": [
        "clf.fit(X_train,y_train)#fitting data set into svm model\n",
        "\n"
      ],
      "metadata": {
        "id": "5nb_OG-6VuUc",
        "colab": {
          "base_uri": "https://localhost:8080/"
        },
        "outputId": "d7cc9112-5ad9-4534-bdd7-d4a55a819d7f"
      },
      "execution_count": 158,
      "outputs": [
        {
          "output_type": "execute_result",
          "data": {
            "text/plain": [
              "SVC(degree=2, kernel='poly')"
            ]
          },
          "metadata": {},
          "execution_count": 158
        }
      ]
    },
    {
      "cell_type": "code",
      "source": [
        "y_pred = clf.predict(X_test)#predicting results using our model\n",
        "y_pred.shape\n"
      ],
      "metadata": {
        "id": "F1E9xtOUVxou",
        "colab": {
          "base_uri": "https://localhost:8080/"
        },
        "outputId": "46e30972-19fd-4fb3-81f6-ef4177300c71"
      },
      "execution_count": 159,
      "outputs": [
        {
          "output_type": "execute_result",
          "data": {
            "text/plain": [
              "(200,)"
            ]
          },
          "metadata": {},
          "execution_count": 159
        }
      ]
    },
    {
      "cell_type": "code",
      "source": [
        "#def report(model): #Function to calculate classification report,confusion matrix & roc curve\n",
        "    #preds = model.predict(X_test)\n",
        "    #print(classification_report(preds,y_test))\n",
        "    #plot_confusion_matrix(model,X_test,y_test)\n",
        "    #plt.savefig(\"confusion.png\")\n",
        "    #plot_roc_curve(model,X_test,y_test)\n",
        "    #plt.savefig(\"roc.png\")"
      ],
      "metadata": {
        "id": "-5pm80DjWPUi"
      },
      "execution_count": 160,
      "outputs": []
    },
    {
      "cell_type": "code",
      "source": [
        "print(\"SVM Classifier\")\n",
        "preds = clf.predict(X_test)\n",
        "report=classification_report(preds,y_test)\n",
        "plot_confusion_matrix(clf,X_test,y_test)\n",
        "plt.savefig(\"confusionSVM.png\")\n",
        "plot_roc_curve(clf,X_test,y_test)\n",
        "plt.savefig(\"rocSVM.png\")"
      ],
      "metadata": {
        "id": "J1vXaHFjWzSG",
        "colab": {
          "base_uri": "https://localhost:8080/",
          "height": 648
        },
        "outputId": "10d0453a-02b0-4d22-d9ee-dc93b4e0a79f"
      },
      "execution_count": 161,
      "outputs": [
        {
          "output_type": "stream",
          "name": "stdout",
          "text": [
            "SVM Classifier\n"
          ]
        },
        {
          "output_type": "stream",
          "name": "stderr",
          "text": [
            "/usr/local/lib/python3.7/dist-packages/sklearn/utils/deprecation.py:87: FutureWarning: Function plot_confusion_matrix is deprecated; Function `plot_confusion_matrix` is deprecated in 1.0 and will be removed in 1.2. Use one of the class methods: ConfusionMatrixDisplay.from_predictions or ConfusionMatrixDisplay.from_estimator.\n",
            "  warnings.warn(msg, category=FutureWarning)\n",
            "/usr/local/lib/python3.7/dist-packages/sklearn/utils/deprecation.py:87: FutureWarning: Function plot_roc_curve is deprecated; Function :func:`plot_roc_curve` is deprecated in 1.0 and will be removed in 1.2. Use one of the class methods: :meth:`sklearn.metric.RocCurveDisplay.from_predictions` or :meth:`sklearn.metric.RocCurveDisplay.from_estimator`.\n",
            "  warnings.warn(msg, category=FutureWarning)\n"
          ]
        },
        {
          "output_type": "display_data",
          "data": {
            "text/plain": [
              "<Figure size 432x288 with 2 Axes>"
            ],
            "image/png": "[encoded data removed]"
          },
          "metadata": {
            "needs_background": "light"
          }
        },
        {
          "output_type": "display_data",
          "data": {
            "text/plain": [
              "<Figure size 432x288 with 1 Axes>"
            ],
            "image/png": "[encoded data removed]"
          },
          "metadata": {
            "needs_background": "light"
          }
        }
      ]
    },
    {
      "cell_type": "code",
      "source": [
        "#fittting the training set into model\n",
        "tree = DecisionTreeClassifier()\n",
        "tree.fit(X_train, y_train)"
      ],
      "metadata": {
        "id": "Q6zI_D6hcfHK",
        "colab": {
          "base_uri": "https://localhost:8080/"
        },
        "outputId": "5b1a0134-e531-42f4-f89c-d013a6ce3a7f"
      },
      "execution_count": 162,
      "outputs": [
        {
          "output_type": "execute_result",
          "data": {
            "text/plain": [
              "DecisionTreeClassifier()"
            ]
          },
          "metadata": {},
          "execution_count": 162
        }
      ]
    },
    {
      "cell_type": "code",
      "source": [
        "print(\"Decision Tree Classifier\")\n",
        "preds = tree.predict(X_test)\n",
        "print(classification_report(preds,y_test))\n",
        "plot_confusion_matrix(tree,X_test,y_test)\n",
        "plt.savefig(\"confusionDecisionTree.png\")\n",
        "plot_roc_curve(tree,X_test,y_test)\n",
        "plt.savefig(\"rocDecisionTree.png\")"
      ],
      "metadata": {
        "id": "lVXQgK3SdOFa",
        "colab": {
          "base_uri": "https://localhost:8080/",
          "height": 808
        },
        "outputId": "d86e3536-f532-4891-b437-aab9d92eedcc"
      },
      "execution_count": 163,
      "outputs": [
        {
          "output_type": "stream",
          "name": "stdout",
          "text": [
            "Decision Tree Classifier\n",
            "              precision    recall  f1-score   support\n",
            "\n",
            "           0       0.59      0.58      0.58       104\n",
            "           1       0.55      0.56      0.56        96\n",
            "\n",
            "    accuracy                           0.57       200\n",
            "   macro avg       0.57      0.57      0.57       200\n",
            "weighted avg       0.57      0.57      0.57       200\n",
            "\n"
          ]
        },
        {
          "output_type": "stream",
          "name": "stderr",
          "text": [
            "/usr/local/lib/python3.7/dist-packages/sklearn/utils/deprecation.py:87: FutureWarning: Function plot_confusion_matrix is deprecated; Function `plot_confusion_matrix` is deprecated in 1.0 and will be removed in 1.2. Use one of the class methods: ConfusionMatrixDisplay.from_predictions or ConfusionMatrixDisplay.from_estimator.\n",
            "  warnings.warn(msg, category=FutureWarning)\n",
            "/usr/local/lib/python3.7/dist-packages/sklearn/utils/deprecation.py:87: FutureWarning: Function plot_roc_curve is deprecated; Function :func:`plot_roc_curve` is deprecated in 1.0 and will be removed in 1.2. Use one of the class methods: :meth:`sklearn.metric.RocCurveDisplay.from_predictions` or :meth:`sklearn.metric.RocCurveDisplay.from_estimator`.\n",
            "  warnings.warn(msg, category=FutureWarning)\n"
          ]
        },
        {
          "output_type": "display_data",
          "data": {
            "text/plain": [
              "<Figure size 432x288 with 2 Axes>"
            ],
            "image/png": "[encoded data removed]"
          },
          "metadata": {
            "needs_background": "light"
          }
        },
        {
          "output_type": "display_data",
          "data": {
            "text/plain": [
              "<Figure size 432x288 with 1 Axes>"
            ],
            "image/png": "[encoded data removed]"
          },
          "metadata": {
            "needs_background": "light"
          }
        }
      ]
    },
    {
      "cell_type": "code",
      "source": [
        "#fitting our nodel with training sets\n",
        "ran=RandomForestClassifier(n_estimators=100)\n",
        "ran.fit(X_train,y_train)"
      ],
      "metadata": {
        "id": "owTpTiu-ds8x",
        "colab": {
          "base_uri": "https://localhost:8080/"
        },
        "outputId": "44137620-6cb9-4d7f-a8d6-9ca130b98379"
      },
      "execution_count": 164,
      "outputs": [
        {
          "output_type": "execute_result",
          "data": {
            "text/plain": [
              "RandomForestClassifier()"
            ]
          },
          "metadata": {},
          "execution_count": 164
        }
      ]
    },
    {
      "cell_type": "code",
      "source": [
        "print(\"Random Forest Classifier\")\n",
        "preds = ran.predict(X_test)\n",
        "print(classification_report(preds,y_test))\n",
        "plot_confusion_matrix(ran,X_test,y_test)\n",
        "plt.savefig(\"confusionRandomForest.png\")\n",
        "plot_roc_curve(ran,X_test,y_test)\n",
        "plt.savefig(\"rocRandomForest.png\")"
      ],
      "metadata": {
        "id": "lp-OC14keJ7G",
        "colab": {
          "base_uri": "https://localhost:8080/",
          "height": 804
        },
        "outputId": "47272022-b13c-4d13-8cbb-8733491fdbef"
      },
      "execution_count": 165,
      "outputs": [
        {
          "output_type": "stream",
          "name": "stdout",
          "text": [
            "Random Forest Classifier\n",
            "              precision    recall  f1-score   support\n",
            "\n",
            "           0       0.75      0.68      0.71       114\n",
            "           1       0.62      0.71      0.66        86\n",
            "\n",
            "    accuracy                           0.69       200\n",
            "   macro avg       0.69      0.69      0.69       200\n",
            "weighted avg       0.70      0.69      0.69       200\n",
            "\n"
          ]
        },
        {
          "output_type": "stream",
          "name": "stderr",
          "text": [
            "/usr/local/lib/python3.7/dist-packages/sklearn/utils/deprecation.py:87: FutureWarning: Function plot_confusion_matrix is deprecated; Function `plot_confusion_matrix` is deprecated in 1.0 and will be removed in 1.2. Use one of the class methods: ConfusionMatrixDisplay.from_predictions or ConfusionMatrixDisplay.from_estimator.\n",
            "  warnings.warn(msg, category=FutureWarning)\n",
            "/usr/local/lib/python3.7/dist-packages/sklearn/utils/deprecation.py:87: FutureWarning: Function plot_roc_curve is deprecated; Function :func:`plot_roc_curve` is deprecated in 1.0 and will be removed in 1.2. Use one of the class methods: :meth:`sklearn.metric.RocCurveDisplay.from_predictions` or :meth:`sklearn.metric.RocCurveDisplay.from_estimator`.\n",
            "  warnings.warn(msg, category=FutureWarning)\n"
          ]
        },
        {
          "output_type": "display_data",
          "data": {
            "text/plain": [
              "<Figure size 432x288 with 2 Axes>"
            ],
            "image/png": "[encoded data removed]"
          },
          "metadata": {
            "needs_background": "light"
          }
        },
        {
          "output_type": "display_data",
          "data": {
            "text/plain": [
              "<Figure size 432x288 with 1 Axes>"
            ],
            "image/png": "[encoded data removed]"
          },
          "metadata": {
            "needs_background": "light"
          }
        }
      ]
    },
    {
      "cell_type": "code",
      "source": [
        "#now building  adaboostclassifier on training sets and fitting \n",
        "classifier = AdaBoostClassifier(\n",
        "    DecisionTreeClassifier(max_depth=1),\n",
        "    n_estimators=100\n",
        ")\n",
        "classifier.fit(X_train, y_train)"
      ],
      "metadata": {
        "id": "gn_lNlJlhJ6X",
        "colab": {
          "base_uri": "https://localhost:8080/"
        },
        "outputId": "20c07722-68db-492e-f78e-5b0732659d80"
      },
      "execution_count": 166,
      "outputs": [
        {
          "output_type": "execute_result",
          "data": {
            "text/plain": [
              "AdaBoostClassifier(base_estimator=DecisionTreeClassifier(max_depth=1),\n",
              "                   n_estimators=100)"
            ]
          },
          "metadata": {},
          "execution_count": 166
        }
      ]
    },
    {
      "cell_type": "code",
      "source": [
        "print(\"Adaboost\")\n",
        "preds = classifier.predict(X_test)\n",
        "print(classification_report(preds,y_test))\n",
        "plot_confusion_matrix(classifier,X_test,y_test)\n",
        "plt.savefig(\"confusionAdaBoost.png\")\n",
        "plot_roc_curve(classifier,X_test,y_test)\n",
        "plt.savefig(\"rocAdaBoost.png\")"
      ],
      "metadata": {
        "id": "CCmDQcA5hZM-",
        "colab": {
          "base_uri": "https://localhost:8080/",
          "height": 804
        },
        "outputId": "548902c5-6b40-4925-f7a9-67f7c92eeb1f"
      },
      "execution_count": 167,
      "outputs": [
        {
          "output_type": "stream",
          "name": "stdout",
          "text": [
            "Adaboost\n",
            "              precision    recall  f1-score   support\n",
            "\n",
            "           0       0.60      0.56      0.58       109\n",
            "           1       0.51      0.55      0.53        91\n",
            "\n",
            "    accuracy                           0.56       200\n",
            "   macro avg       0.55      0.55      0.55       200\n",
            "weighted avg       0.56      0.56      0.56       200\n",
            "\n"
          ]
        },
        {
          "output_type": "stream",
          "name": "stderr",
          "text": [
            "/usr/local/lib/python3.7/dist-packages/sklearn/utils/deprecation.py:87: FutureWarning: Function plot_confusion_matrix is deprecated; Function `plot_confusion_matrix` is deprecated in 1.0 and will be removed in 1.2. Use one of the class methods: ConfusionMatrixDisplay.from_predictions or ConfusionMatrixDisplay.from_estimator.\n",
            "  warnings.warn(msg, category=FutureWarning)\n",
            "/usr/local/lib/python3.7/dist-packages/sklearn/utils/deprecation.py:87: FutureWarning: Function plot_roc_curve is deprecated; Function :func:`plot_roc_curve` is deprecated in 1.0 and will be removed in 1.2. Use one of the class methods: :meth:`sklearn.metric.RocCurveDisplay.from_predictions` or :meth:`sklearn.metric.RocCurveDisplay.from_estimator`.\n",
            "  warnings.warn(msg, category=FutureWarning)\n"
          ]
        },
        {
          "output_type": "display_data",
          "data": {
            "text/plain": [
              "<Figure size 432x288 with 2 Axes>"
            ],
            "image/png": "[encoded data removed]"
          },
          "metadata": {
            "needs_background": "light"
          }
        },
        {
          "output_type": "display_data",
          "data": {
            "text/plain": [
              "<Figure size 432x288 with 1 Axes>"
            ],
            "image/png": "[encoded data removed]"
          },
          "metadata": {
            "needs_background": "light"
          }
        }
      ]
    },
    {
      "cell_type": "code",
      "source": [
        "from sklearn.neighbors import KNeighborsClassifier\n",
        "knc = KNeighborsClassifier(n_neighbors=50)"
      ],
      "metadata": {
        "id": "4jIZwsWe9Rom"
      },
      "execution_count": 168,
      "outputs": []
    },
    {
      "cell_type": "code",
      "source": [
        "print(\"KNN\")\n",
        "knc.fit(X_train,y_train)\n",
        "preds = knc.predict(X_test)\n",
        "print(classification_report(preds,y_test))\n",
        "plot_confusion_matrix(knc,X_test,y_test)\n",
        "plt.savefig(\"confusionKNN.png\")\n",
        "plot_roc_curve(knc,X_test,y_test)\n",
        "plt.savefig(\"rocKNN.png\")"
      ],
      "metadata": {
        "id": "D9M99doe9yh8",
        "colab": {
          "base_uri": "https://localhost:8080/",
          "height": 804
        },
        "outputId": "786c9719-9ce4-4038-837a-ee5044a5ff23"
      },
      "execution_count": 169,
      "outputs": [
        {
          "output_type": "stream",
          "name": "stdout",
          "text": [
            "KNN\n",
            "              precision    recall  f1-score   support\n",
            "\n",
            "           0       0.67      0.53      0.59       129\n",
            "           1       0.38      0.52      0.44        71\n",
            "\n",
            "    accuracy                           0.53       200\n",
            "   macro avg       0.52      0.52      0.51       200\n",
            "weighted avg       0.56      0.53      0.54       200\n",
            "\n"
          ]
        },
        {
          "output_type": "stream",
          "name": "stderr",
          "text": [
            "/usr/local/lib/python3.7/dist-packages/sklearn/utils/deprecation.py:87: FutureWarning: Function plot_confusion_matrix is deprecated; Function `plot_confusion_matrix` is deprecated in 1.0 and will be removed in 1.2. Use one of the class methods: ConfusionMatrixDisplay.from_predictions or ConfusionMatrixDisplay.from_estimator.\n",
            "  warnings.warn(msg, category=FutureWarning)\n",
            "/usr/local/lib/python3.7/dist-packages/sklearn/utils/deprecation.py:87: FutureWarning: Function plot_roc_curve is deprecated; Function :func:`plot_roc_curve` is deprecated in 1.0 and will be removed in 1.2. Use one of the class methods: :meth:`sklearn.metric.RocCurveDisplay.from_predictions` or :meth:`sklearn.metric.RocCurveDisplay.from_estimator`.\n",
            "  warnings.warn(msg, category=FutureWarning)\n"
          ]
        },
        {
          "output_type": "display_data",
          "data": {
            "text/plain": [
              "<Figure size 432x288 with 2 Axes>"
            ],
            "image/png": "[encoded data removed]"
          },
          "metadata": {
            "needs_background": "light"
          }
        },
        {
          "output_type": "display_data",
          "data": {
            "text/plain": [
              "<Figure size 432x288 with 1 Axes>"
            ],
            "image/png": "[encoded data removed]"
          },
          "metadata": {
            "needs_background": "light"
          }
        }
      ]
    },
    {
      "cell_type": "code",
      "source": [
        "from sklearn.linear_model import LogisticRegression\n",
        "lrc = LogisticRegression(solver='liblinear', penalty='l1')\n",
        "lrc.fit(X_train,y_train)"
      ],
      "metadata": {
        "id": "HuXdwl2t_Ymv",
        "colab": {
          "base_uri": "https://localhost:8080/"
        },
        "outputId": "95b50d6c-6225-4f70-a1ad-4519feeaca9d"
      },
      "execution_count": 170,
      "outputs": [
        {
          "output_type": "execute_result",
          "data": {
            "text/plain": [
              "LogisticRegression(penalty='l1', solver='liblinear')"
            ]
          },
          "metadata": {},
          "execution_count": 170
        }
      ]
    },
    {
      "cell_type": "code",
      "source": [
        "print(\"Logistic Regression\")\n",
        "preds = clf.predict(X_test)\n",
        "print(classification_report(preds,y_test))\n",
        "plot_confusion_matrix(lrc,X_test,y_test)\n",
        "plt.savefig(\"confusionLogisticregresion.png\")\n",
        "plot_roc_curve(lrc,X_test,y_test)\n",
        "plt.savefig(\"roclogisticregression.png\")"
      ],
      "metadata": {
        "id": "lcp7zFZO_nc6",
        "colab": {
          "base_uri": "https://localhost:8080/",
          "height": 804
        },
        "outputId": "fd53553d-2530-4270-f357-3ed190c185bc"
      },
      "execution_count": 171,
      "outputs": [
        {
          "output_type": "stream",
          "name": "stdout",
          "text": [
            "Logistic Regression\n",
            "              precision    recall  f1-score   support\n",
            "\n",
            "           0       0.07      0.47      0.12        15\n",
            "           1       0.92      0.49      0.64       185\n",
            "\n",
            "    accuracy                           0.48       200\n",
            "   macro avg       0.49      0.48      0.38       200\n",
            "weighted avg       0.85      0.48      0.60       200\n",
            "\n"
          ]
        },
        {
          "output_type": "stream",
          "name": "stderr",
          "text": [
            "/usr/local/lib/python3.7/dist-packages/sklearn/utils/deprecation.py:87: FutureWarning: Function plot_confusion_matrix is deprecated; Function `plot_confusion_matrix` is deprecated in 1.0 and will be removed in 1.2. Use one of the class methods: ConfusionMatrixDisplay.from_predictions or ConfusionMatrixDisplay.from_estimator.\n",
            "  warnings.warn(msg, category=FutureWarning)\n",
            "/usr/local/lib/python3.7/dist-packages/sklearn/utils/deprecation.py:87: FutureWarning: Function plot_roc_curve is deprecated; Function :func:`plot_roc_curve` is deprecated in 1.0 and will be removed in 1.2. Use one of the class methods: :meth:`sklearn.metric.RocCurveDisplay.from_predictions` or :meth:`sklearn.metric.RocCurveDisplay.from_estimator`.\n",
            "  warnings.warn(msg, category=FutureWarning)\n"
          ]
        },
        {
          "output_type": "display_data",
          "data": {
            "text/plain": [
              "<Figure size 432x288 with 2 Axes>"
            ],
            "image/png": "[encoded data removed]"
          },
          "metadata": {
            "needs_background": "light"
          }
        },
        {
          "output_type": "display_data",
          "data": {
            "text/plain": [
              "<Figure size 432x288 with 1 Axes>"
            ],
            "image/png": "[encoded data removed]"
          },
          "metadata": {
            "needs_background": "light"
          }
        }
      ]
    },
    {
      "cell_type": "code",
      "source": [
        "from sklearn.ensemble import BaggingClassifier\n",
        "bc = BaggingClassifier(n_estimators=50)\n",
        "bc.fit(X_train,y_train)"
      ],
      "metadata": {
        "id": "Pb2ROPdWCS_4",
        "colab": {
          "base_uri": "https://localhost:8080/"
        },
        "outputId": "fad3fe15-1123-4c6a-e0b1-475e8ff6c0a2"
      },
      "execution_count": 172,
      "outputs": [
        {
          "output_type": "execute_result",
          "data": {
            "text/plain": [
              "BaggingClassifier(n_estimators=50)"
            ]
          },
          "metadata": {},
          "execution_count": 172
        }
      ]
    },
    {
      "cell_type": "code",
      "source": [
        "print(\"bagging\")\n",
        "preds = bc.predict(X_test)\n",
        "print(classification_report(preds,y_test))\n",
        "plot_confusion_matrix(bc,X_test,y_test)\n",
        "plt.savefig(\"confusionbagging.png\")\n",
        "plot_roc_curve(bc,X_test,y_test)\n",
        "plt.savefig(\"rocbagging.png\")"
      ],
      "metadata": {
        "id": "DEt7Lm4YCq8N",
        "colab": {
          "base_uri": "https://localhost:8080/",
          "height": 804
        },
        "outputId": "e70919ed-e59a-49ce-c9c8-9d4625cae755"
      },
      "execution_count": 173,
      "outputs": [
        {
          "output_type": "stream",
          "name": "stdout",
          "text": [
            "bagging\n",
            "              precision    recall  f1-score   support\n",
            "\n",
            "           0       0.75      0.66      0.70       115\n",
            "           1       0.60      0.69      0.64        85\n",
            "\n",
            "    accuracy                           0.68       200\n",
            "   macro avg       0.67      0.68      0.67       200\n",
            "weighted avg       0.68      0.68      0.68       200\n",
            "\n"
          ]
        },
        {
          "output_type": "stream",
          "name": "stderr",
          "text": [
            "/usr/local/lib/python3.7/dist-packages/sklearn/utils/deprecation.py:87: FutureWarning: Function plot_confusion_matrix is deprecated; Function `plot_confusion_matrix` is deprecated in 1.0 and will be removed in 1.2. Use one of the class methods: ConfusionMatrixDisplay.from_predictions or ConfusionMatrixDisplay.from_estimator.\n",
            "  warnings.warn(msg, category=FutureWarning)\n",
            "/usr/local/lib/python3.7/dist-packages/sklearn/utils/deprecation.py:87: FutureWarning: Function plot_roc_curve is deprecated; Function :func:`plot_roc_curve` is deprecated in 1.0 and will be removed in 1.2. Use one of the class methods: :meth:`sklearn.metric.RocCurveDisplay.from_predictions` or :meth:`sklearn.metric.RocCurveDisplay.from_estimator`.\n",
            "  warnings.warn(msg, category=FutureWarning)\n"
          ]
        },
        {
          "output_type": "display_data",
          "data": {
            "text/plain": [
              "<Figure size 432x288 with 2 Axes>"
            ],
            "image/png": "[encoded data removed]"
          },
          "metadata": {
            "needs_background": "light"
          }
        },
        {
          "output_type": "display_data",
          "data": {
            "text/plain": [
              "<Figure size 432x288 with 1 Axes>"
            ],
            "image/png": "[encoded data removed]"
          },
          "metadata": {
            "needs_background": "light"
          }
        }
      ]
    },
    {
      "cell_type": "code",
      "source": [
        "#DataFlair - Train the model\n",
        "from xgboost import XGBClassifier\n",
        "model=XGBClassifier()\n",
        "model.fit(X_train,y_train)"
      ],
      "metadata": {
        "colab": {
          "base_uri": "https://localhost:8080/"
        },
        "id": "578CF1zRqdKj",
        "outputId": "7fd7ed1a-0cf6-491d-e8f8-ca0d5431d031"
      },
      "execution_count": 174,
      "outputs": [
        {
          "output_type": "execute_result",
          "data": {
            "text/plain": [
              "XGBClassifier()"
            ]
          },
          "metadata": {},
          "execution_count": 174
        }
      ]
    },
    {
      "cell_type": "code",
      "source": [
        "print(\"XGB Classifier\")\n",
        "preds = model.predict(X_test)\n",
        "print(classification_report(preds,y_test))\n",
        "plot_confusion_matrix(model,X_test,y_test)\n",
        "plt.savefig(\"confusionXGB.png\")\n",
        "plot_roc_curve(model,X_test,y_test)\n",
        "plt.savefig(\"rocXGB.png\")"
      ],
      "metadata": {
        "colab": {
          "base_uri": "https://localhost:8080/",
          "height": 804
        },
        "id": "gMuicnVjql2P",
        "outputId": "9f098dd5-448e-4f81-87dc-089a56224c67"
      },
      "execution_count": 175,
      "outputs": [
        {
          "output_type": "stream",
          "name": "stdout",
          "text": [
            "XGB Classifier\n",
            "              precision    recall  f1-score   support\n",
            "\n",
            "           0       0.72      0.65      0.68       113\n",
            "           1       0.59      0.67      0.63        87\n",
            "\n",
            "    accuracy                           0.66       200\n",
            "   macro avg       0.65      0.66      0.65       200\n",
            "weighted avg       0.66      0.66      0.66       200\n",
            "\n"
          ]
        },
        {
          "output_type": "stream",
          "name": "stderr",
          "text": [
            "/usr/local/lib/python3.7/dist-packages/sklearn/utils/deprecation.py:87: FutureWarning: Function plot_confusion_matrix is deprecated; Function `plot_confusion_matrix` is deprecated in 1.0 and will be removed in 1.2. Use one of the class methods: ConfusionMatrixDisplay.from_predictions or ConfusionMatrixDisplay.from_estimator.\n",
            "  warnings.warn(msg, category=FutureWarning)\n",
            "/usr/local/lib/python3.7/dist-packages/sklearn/utils/deprecation.py:87: FutureWarning: Function plot_roc_curve is deprecated; Function :func:`plot_roc_curve` is deprecated in 1.0 and will be removed in 1.2. Use one of the class methods: :meth:`sklearn.metric.RocCurveDisplay.from_predictions` or :meth:`sklearn.metric.RocCurveDisplay.from_estimator`.\n",
            "  warnings.warn(msg, category=FutureWarning)\n"
          ]
        },
        {
          "output_type": "display_data",
          "data": {
            "text/plain": [
              "<Figure size 432x288 with 2 Axes>"
            ],
            "image/png": "[encoded data removed]"
          },
          "metadata": {
            "needs_background": "light"
          }
        },
        {
          "output_type": "display_data",
          "data": {
            "text/plain": [
              "<Figure size 432x288 with 1 Axes>"
            ],
            "image/png": "[encoded data removed]"
          },
          "metadata": {
            "needs_background": "light"
          }
        }
      ]
    }
  ]
}